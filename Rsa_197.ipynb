{
 "cells": [
  {
   "cell_type": "code",
   "execution_count": 4,
   "id": "6c6e1317",
   "metadata": {},
   "outputs": [],
   "source": [
    "import random\n",
    "\n",
    "def gcd(x,y):\n",
    "    while (y):\n",
    "        x,y = y, x%y\n",
    "    return abs(x)\n",
    "\n",
    "def power(a,b):\n",
    "    return a**b\n",
    "\n",
    "def inverse_mod(phi,e):\n",
    "    i=1\n",
    "    while((1+phi*i)%e==0):\n",
    "        i+1\n",
    "    return i"
   ]
  },
  {
   "cell_type": "code",
   "execution_count": null,
   "id": "f58d4940",
   "metadata": {},
   "outputs": [
    {
     "name": "stdout",
     "output_type": "stream",
     "text": [
      " Enter 1st prime number : 5\n",
      " Enter 2nd prime number : 7\n",
      " e :  7\n",
      "1\n",
      " d :  3.5714285714285716\n"
     ]
    }
   ],
   "source": [
    "p = int(input(\" Enter 1st prime number : \"))\n",
    "q = int(input(\" Enter 2nd prime number : \"))\n",
    "\n",
    "n  = p*q\n",
    "\n",
    "\n",
    "\n",
    "phi = (p-1)*(q-1)\n",
    "\n",
    "e = random.randint(2,phi-1)\n",
    "\n",
    "while(gcd(e,phi)!=1):\n",
    "    e = random.randint(2,phi-1)\n",
    "print(\" e : \",e)\n",
    "\n",
    "k = inverse_mod(phi,e)\n",
    "print(k)\n",
    "\n",
    "d = (1+(k*phi))/e\n",
    "\n",
    "private_key = {d,n}\n",
    "print(\" d : \",d)\n",
    "\n",
    "msg = int(input(\" Enter msg to be shared : \"))\n",
    "\n",
    "cipher = (msg**e)%n\n",
    "\n",
    "print(\" ciphet_text : \",cipher)\n",
    "\n",
    "#decrption\n",
    "\n",
    "plain = (cipher**d)%n\n",
    "\n",
    "print(\" plain text : \",plain)\n",
    "    \n",
    "            "
   ]
  }
 ],
 "metadata": {
  "kernelspec": {
   "display_name": "Python 3 (ipykernel)",
   "language": "python",
   "name": "python3"
  },
  "language_info": {
   "codemirror_mode": {
    "name": "ipython",
    "version": 3
   },
   "file_extension": ".py",
   "mimetype": "text/x-python",
   "name": "python",
   "nbconvert_exporter": "python",
   "pygments_lexer": "ipython3",
   "version": "3.11.3"
  }
 },
 "nbformat": 4,
 "nbformat_minor": 5
}

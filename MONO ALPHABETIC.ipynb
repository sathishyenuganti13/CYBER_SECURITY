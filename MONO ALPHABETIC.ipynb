{
 "cells": [
  {
   "cell_type": "markdown",
   "id": "1c14920d",
   "metadata": {},
   "source": [
    "# MONO ALPHOBHETIC "
   ]
  },
  {
   "cell_type": "code",
   "execution_count": 9,
   "id": "5e75227b",
   "metadata": {},
   "outputs": [
    {
     "name": "stdout",
     "output_type": "stream",
     "text": [
      "enter key : GKHUFYCJNL;MLKNHJVC\n",
      "enter the msg to be transfered : jgychjlihucv\n",
      "dictionary :  {'j': 'U', 'g': 'g', 'y': 'C', 'c': 'Y', 'h': 'u', 'l': 'j', 'i': 'V', 'u': 'c', 'v': 'J'}\n",
      "cipher text :  UgCYuUjVucYJ\n"
     ]
    },
    {
     "data": {
      "text/plain": [
       "'\\nplain = \"\"\\nfor i in cipher:\\n    if i.isalpha():\\n        plain+=\\n'"
      ]
     },
     "execution_count": 9,
     "metadata": {},
     "output_type": "execute_result"
    }
   ],
   "source": [
    "import random\n",
    "\n",
    "key = input(\"enter key : \")\n",
    "keys=[]\n",
    "\n",
    "for i in key:\n",
    "    keys.append(i)\n",
    "\n",
    "\n",
    "msg = input(\"enter the msg to be transfered : \")\n",
    "\n",
    "keys=list(set(keys))\n",
    "\n",
    "if len(keys)!=26:\n",
    "    for i in msg:\n",
    "        if i not in keys and i.isalpha():\n",
    "            keys.append(i)\n",
    "\n",
    "dic = {}\n",
    "\n",
    "def unique(l):\n",
    "    res=[]\n",
    "    for i in l:\n",
    "        if i not in res and i.isalpha():\n",
    "            res.append(i)\n",
    "    return res\n",
    "\n",
    "for k in unique(msg.lower()):\n",
    "    if k.isalpha():\n",
    "        a=random.randint(0,(len(keys)-1))\n",
    "        dic.update({k:keys[a]})\n",
    "        keys.pop(a)\n",
    "\n",
    "print(\"dictionary : \",dic)\n",
    "\n",
    "cipher = \"\"\n",
    "for i in msg:\n",
    "    if i.isalpha():\n",
    "        if i.islower():\n",
    "            cipher+=dic[i]\n",
    "        else:\n",
    "            cipher+=dic[i.lower()].upper()\n",
    "    else:\n",
    "        cipher+=i\n",
    "\n",
    "print(\"cipher text : \",cipher)\n",

    "\n",
    "\n"
   ]
  }
}
